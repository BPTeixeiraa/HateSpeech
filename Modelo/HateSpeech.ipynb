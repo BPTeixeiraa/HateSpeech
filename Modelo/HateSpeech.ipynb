{
 "cells": [
  {
   "cell_type": "markdown",
   "id": "e861ff32-c9a0-49e5-8868-58dff6bf4e25",
   "metadata": {},
   "source": [
    "## Importando bibliotecas e validando base de dados"
   ]
  },
  {
   "cell_type": "code",
   "execution_count": 1,
   "id": "86abbaf3-2091-453d-a3ec-5db5c640fd53",
   "metadata": {},
   "outputs": [],
   "source": [
    "import pandas as pd\n",
    "import numpy as np\n",
    "from sklearn.model_selection import cross_validate\n",
    "from sklearn.naive_bayes import MultinomialNB\n",
    "from sklearn.svm import LinearSVC\n",
    "from sklearn.linear_model import LogisticRegression\n",
    "from sklearn.model_selection import train_test_split\n",
    "from sklearn.metrics import accuracy_score\n",
    "from sklearn.pipeline import Pipeline\n",
    "from sklearn.feature_extraction.text import CountVectorizer\n",
    "from collections import Counter\n",
    "import re\n",
    "import string\n",
    "import nltk\n",
    "import pickle\n",
    "import matplotlib.pyplot as plt\n",
    "%matplotlib inline    "
   ]
  },
  {
   "cell_type": "code",
   "execution_count": 2,
   "id": "e6c31aae-486e-43f6-9043-a1fc22b087fc",
   "metadata": {},
   "outputs": [],
   "source": [
    "df1 = pd.read_csv(\"base/base_dados_1.csv\", delimiter=\",\")  # Base por Pelle [2017]\n",
    "df2 = pd.read_csv(\"base/base_dados_2.csv\", delimiter=\";\")  # Base por Fortuna [2019]\n",
    "\n",
    "\n",
    "\n",
    "df = pd.concat([df1, df2], ignore_index=True)"
   ]
  },
  {
   "cell_type": "code",
   "execution_count": 3,
   "id": "c8a868b9-9d9d-422b-bba8-cfa603a50f0a",
   "metadata": {},
   "outputs": [
    {
     "data": {
      "text/plain": [
       "(1242, 2)"
      ]
     },
     "execution_count": 3,
     "metadata": {},
     "output_type": "execute_result"
    }
   ],
   "source": [
    "df1.shape"
   ]
  },
  {
   "cell_type": "code",
   "execution_count": 4,
   "id": "01bdbaad-9126-46aa-a577-7fab79a81b4b",
   "metadata": {},
   "outputs": [
    {
     "data": {
      "text/plain": [
       "(5670, 2)"
      ]
     },
     "execution_count": 4,
     "metadata": {},
     "output_type": "execute_result"
    }
   ],
   "source": [
    "df2.shape"
   ]
  },
  {
   "cell_type": "code",
   "execution_count": 5,
   "id": "33a6d987-4b12-4e7e-a5e3-10469a739113",
   "metadata": {},
   "outputs": [
    {
     "data": {
      "text/html": [
       "<div>\n",
       "<style scoped>\n",
       "    .dataframe tbody tr th:only-of-type {\n",
       "        vertical-align: middle;\n",
       "    }\n",
       "\n",
       "    .dataframe tbody tr th {\n",
       "        vertical-align: top;\n",
       "    }\n",
       "\n",
       "    .dataframe thead th {\n",
       "        text-align: right;\n",
       "    }\n",
       "</style>\n",
       "<table border=\"1\" class=\"dataframe\">\n",
       "  <thead>\n",
       "    <tr style=\"text-align: right;\">\n",
       "      <th></th>\n",
       "      <th>hatespeech</th>\n",
       "      <th>text</th>\n",
       "    </tr>\n",
       "  </thead>\n",
       "  <tbody>\n",
       "    <tr>\n",
       "      <th>0</th>\n",
       "      <td>yes</td>\n",
       "      <td>Votaram no PEZAO Agora tomem no CZAO</td>\n",
       "    </tr>\n",
       "    <tr>\n",
       "      <th>1</th>\n",
       "      <td>no</td>\n",
       "      <td>cuidado com a poupanca pessoal Lembram o que a...</td>\n",
       "    </tr>\n",
       "    <tr>\n",
       "      <th>2</th>\n",
       "      <td>no</td>\n",
       "      <td>Sabe o que eu acho engracado os nossos governa...</td>\n",
       "    </tr>\n",
       "    <tr>\n",
       "      <th>3</th>\n",
       "      <td>yes</td>\n",
       "      <td>os cariocas tem o que merecem um pessoal que s...</td>\n",
       "    </tr>\n",
       "    <tr>\n",
       "      <th>4</th>\n",
       "      <td>no</td>\n",
       "      <td>Podiam retirar dos lucros dos bancos</td>\n",
       "    </tr>\n",
       "  </tbody>\n",
       "</table>\n",
       "</div>"
      ],
      "text/plain": [
       "  hatespeech                                               text\n",
       "0        yes               Votaram no PEZAO Agora tomem no CZAO\n",
       "1         no  cuidado com a poupanca pessoal Lembram o que a...\n",
       "2         no  Sabe o que eu acho engracado os nossos governa...\n",
       "3        yes  os cariocas tem o que merecem um pessoal que s...\n",
       "4         no              Podiam retirar dos lucros dos bancos "
      ]
     },
     "execution_count": 5,
     "metadata": {},
     "output_type": "execute_result"
    }
   ],
   "source": [
    "df.head()"
   ]
  },
  {
   "cell_type": "markdown",
   "id": "4366f3d4-24b0-45f3-a39b-93a81dc63d8a",
   "metadata": {},
   "source": [
    "## Balanceando amostras"
   ]
  },
  {
   "cell_type": "code",
   "execution_count": 6,
   "id": "fe716525-dabe-4aca-b4d0-b0a0165d067a",
   "metadata": {},
   "outputs": [
    {
     "data": {
      "text/plain": [
       "Counter({'yes': 2202, 'no': 4710})"
      ]
     },
     "execution_count": 6,
     "metadata": {},
     "output_type": "execute_result"
    }
   ],
   "source": [
    "Counter(df['hatespeech'])"
   ]
  },
  {
   "cell_type": "code",
   "execution_count": 7,
   "id": "d1cb5e90-435a-4343-8a99-bad9bb7d3c3c",
   "metadata": {},
   "outputs": [],
   "source": [
    "cut = 2202\n",
    "df_yes = df[df['hatespeech'] == 'yes'].head(cut)\n",
    "df_no = df[df['hatespeech'] == 'no'].head(cut)\n",
    "\n",
    "df_cut=pd.concat([df_yes, df_no])"
   ]
  },
  {
   "cell_type": "code",
   "execution_count": 8,
   "id": "579a55c5-34f7-46da-8950-1968cbd9685b",
   "metadata": {},
   "outputs": [
    {
     "data": {
      "text/plain": [
       "Counter({'yes': 2202, 'no': 2202})"
      ]
     },
     "execution_count": 8,
     "metadata": {},
     "output_type": "execute_result"
    }
   ],
   "source": [
    "Counter(df_cut['hatespeech'])"
   ]
  },
  {
   "cell_type": "code",
   "execution_count": 9,
   "id": "775780cb-95f1-4fd7-b912-f7bf77e74a7d",
   "metadata": {},
   "outputs": [],
   "source": [
    "df_cut = df"
   ]
  },
  {
   "cell_type": "markdown",
   "id": "0424f746-30f0-434a-8c8c-2848cc93a4f4",
   "metadata": {},
   "source": [
    "## Limpando Dados"
   ]
  },
  {
   "cell_type": "code",
   "execution_count": 10,
   "id": "e7d5558f-788e-4799-8669-1301feead3ef",
   "metadata": {},
   "outputs": [],
   "source": [
    "list_stops_words = []"
   ]
  },
  {
   "cell_type": "code",
   "execution_count": 12,
   "id": "e7f92435-054e-41ea-9798-10da1a8bb609",
   "metadata": {},
   "outputs": [
    {
     "name": "stdout",
     "output_type": "stream",
     "text": [
      "['de', 'a', 'o', 'que', 'e', 'é', 'do', 'da', 'em', 'um', 'para', 'com', 'não', 'uma', 'os', 'no', 'se', 'na', 'por', 'mais', 'as', 'dos', 'como', 'mas', 'ao', 'ele', 'das', 'à', 'seu', 'sua', 'ou', 'quando', 'muito', 'nos', 'já', 'eu', 'também', 'só', 'pelo', 'pela', 'até', 'isso', 'ela', 'entre', 'depois', 'sem', 'mesmo', 'aos', 'seus', 'quem', 'nas', 'me', 'esse', 'eles', 'você', 'essa', 'num', 'nem', 'suas', 'meu', 'às', 'minha', 'numa', 'pelos', 'elas', 'qual', 'nós', 'lhe', 'deles', 'essas', 'esses', 'pelas', 'este', 'dele', 'tu', 'te', 'vocês', 'vos', 'lhes', 'meus', 'minhas', 'teu', 'tua', 'teus', 'tuas', 'nosso', 'nossa', 'nossos', 'nossas', 'dela', 'delas', 'esta', 'estes', 'estas', 'aquele', 'aquela', 'aqueles', 'aquelas', 'isto', 'aquilo', 'estou', 'está', 'estamos', 'estão', 'estive', 'esteve', 'estivemos', 'estiveram', 'estava', 'estávamos', 'estavam', 'estivera', 'estivéramos', 'esteja', 'estejamos', 'estejam', 'estivesse', 'estivéssemos', 'estivessem', 'estiver', 'estivermos', 'estiverem', 'hei', 'há', 'havemos', 'hão', 'houve', 'houvemos', 'houveram', 'houvera', 'houvéramos', 'haja', 'hajamos', 'hajam', 'houvesse', 'houvéssemos', 'houvessem', 'houver', 'houvermos', 'houverem', 'houverei', 'houverá', 'houveremos', 'houverão', 'houveria', 'houveríamos', 'houveriam', 'sou', 'somos', 'são', 'era', 'éramos', 'eram', 'fui', 'foi', 'fomos', 'foram', 'fora', 'fôramos', 'seja', 'sejamos', 'sejam', 'fosse', 'fôssemos', 'fossem', 'for', 'formos', 'forem', 'serei', 'será', 'seremos', 'serão', 'seria', 'seríamos', 'seriam', 'tenho', 'tem', 'temos', 'tém', 'tinha', 'tínhamos', 'tinham', 'tive', 'teve', 'tivemos', 'tiveram', 'tivera', 'tivéramos', 'tenha', 'tenhamos', 'tenham', 'tivesse', 'tivéssemos', 'tivessem', 'tiver', 'tivermos', 'tiverem', 'terei', 'terá', 'teremos', 'terão', 'teria', 'teríamos', 'teriam']\n"
     ]
    },
    {
     "name": "stderr",
     "output_type": "stream",
     "text": [
      "[nltk_data] Downloading package stopwords to\n",
      "[nltk_data]     C:\\Users\\bruno\\AppData\\Roaming\\nltk_data...\n",
      "[nltk_data]   Package stopwords is already up-to-date!\n",
      "[nltk_data] Downloading package rslp to\n",
      "[nltk_data]     C:\\Users\\bruno\\AppData\\Roaming\\nltk_data...\n",
      "[nltk_data]   Package rslp is already up-to-date!\n",
      "[nltk_data] Downloading package punkt to\n",
      "[nltk_data]     C:\\Users\\bruno\\AppData\\Roaming\\nltk_data...\n",
      "[nltk_data]   Package punkt is already up-to-date!\n"
     ]
    }
   ],
   "source": [
    "# O Natural Language Toolkit necessita de bases de dados/bibliotecas que possam categorizar informações em pt-BR.\n",
    "nltk.download('stopwords')\n",
    "nltk.download('rslp')\n",
    "nltk.download('punkt')\n",
    "stopwords = nltk.corpus.stopwords.words('portuguese')\n",
    "#Objeto que extrai o radical de palavras.\n",
    "lemmatizer = nltk.stem.RSLPStemmer()\n",
    "print(stopwords)"
   ]
  },
  {
   "cell_type": "code",
   "execution_count": 21,
   "id": "80d5e851-124b-4481-b11e-e868a89a8ebe",
   "metadata": {},
   "outputs": [],
   "source": [
    "def clean_text(text):\n",
    "    text_new = text.lower()\n",
    "    text_new = text_new.replace('\\r\\n',\" \")\n",
    "    text_new = re.sub(r'(http|https)\\S+', \"\", text_new)\n",
    "    text_new = re.sub(r'[@]\\w+','',text_new)\n",
    "    text_new = re.sub(r'[^\\w\\s]|[_-]|[0-9]','', text_new)\n",
    "    text_new = text_new.split(\" \")\n",
    "    text_new = [x for x in text_new if x not in stopwords]\n",
    "    text_new.remove(' ') if ' ' in text_new else None\n",
    "    return \" \".join(text_new)"
   ]
  },
  {
   "cell_type": "code",
   "execution_count": 22,
   "id": "960b9350-06e3-40de-bd70-26429626ef1b",
   "metadata": {},
   "outputs": [],
   "source": [
    "df_cut['text_clean'] = df['text'].apply(lambda x: clean_text(x))"
   ]
  },
  {
   "cell_type": "code",
   "execution_count": 23,
   "id": "af59099f-bb6c-4742-92a2-04d97cdbdb76",
   "metadata": {},
   "outputs": [
    {
     "data": {
      "text/html": [
       "<div>\n",
       "<style scoped>\n",
       "    .dataframe tbody tr th:only-of-type {\n",
       "        vertical-align: middle;\n",
       "    }\n",
       "\n",
       "    .dataframe tbody tr th {\n",
       "        vertical-align: top;\n",
       "    }\n",
       "\n",
       "    .dataframe thead th {\n",
       "        text-align: right;\n",
       "    }\n",
       "</style>\n",
       "<table border=\"1\" class=\"dataframe\">\n",
       "  <thead>\n",
       "    <tr style=\"text-align: right;\">\n",
       "      <th></th>\n",
       "      <th>hatespeech</th>\n",
       "      <th>text</th>\n",
       "      <th>text_clean</th>\n",
       "    </tr>\n",
       "  </thead>\n",
       "  <tbody>\n",
       "    <tr>\n",
       "      <th>0</th>\n",
       "      <td>yes</td>\n",
       "      <td>Votaram no PEZAO Agora tomem no CZAO</td>\n",
       "      <td>votaram pezao agora tomem czao</td>\n",
       "    </tr>\n",
       "    <tr>\n",
       "      <th>1</th>\n",
       "      <td>no</td>\n",
       "      <td>cuidado com a poupanca pessoal Lembram o que a...</td>\n",
       "      <td>cuidado poupanca pessoal lembram aconteceu epo...</td>\n",
       "    </tr>\n",
       "    <tr>\n",
       "      <th>2</th>\n",
       "      <td>no</td>\n",
       "      <td>Sabe o que eu acho engracado os nossos governa...</td>\n",
       "      <td>sabe acho engracado governantes  nao pensam co...</td>\n",
       "    </tr>\n",
       "    <tr>\n",
       "      <th>3</th>\n",
       "      <td>yes</td>\n",
       "      <td>os cariocas tem o que merecem um pessoal que s...</td>\n",
       "      <td>cariocas merecem pessoal so sabem toma banho s...</td>\n",
       "    </tr>\n",
       "    <tr>\n",
       "      <th>4</th>\n",
       "      <td>no</td>\n",
       "      <td>Podiam retirar dos lucros dos bancos</td>\n",
       "      <td>podiam retirar lucros bancos</td>\n",
       "    </tr>\n",
       "    <tr>\n",
       "      <th>5</th>\n",
       "      <td>no</td>\n",
       "      <td>CADE O GALVAO PRA NARRAR AGORA   FALIIIIUUUUUU...</td>\n",
       "      <td>cade galvao pra narrar agora   faliiiiuuuuuuu ...</td>\n",
       "    </tr>\n",
       "    <tr>\n",
       "      <th>6</th>\n",
       "      <td>no</td>\n",
       "      <td>Nao e possivel que deputados tenham tantos car...</td>\n",
       "      <td>nao possivel deputados tantos cargos comission...</td>\n",
       "    </tr>\n",
       "    <tr>\n",
       "      <th>7</th>\n",
       "      <td>no</td>\n",
       "      <td>Sejam honestos aprovem o projeto original vamo...</td>\n",
       "      <td>honestos aprovem projeto original vamos acabar...</td>\n",
       "    </tr>\n",
       "    <tr>\n",
       "      <th>8</th>\n",
       "      <td>no</td>\n",
       "      <td>Nao a pizza anunciada de anistia do caixa  Sim...</td>\n",
       "      <td>nao pizza anunciada anistia caixa  sim divulga...</td>\n",
       "    </tr>\n",
       "    <tr>\n",
       "      <th>9</th>\n",
       "      <td>no</td>\n",
       "      <td>quem ja viu bandidos fazendo leis contra antic...</td>\n",
       "      <td>ja viu bandidos fazendo leis contra anticorrup...</td>\n",
       "    </tr>\n",
       "  </tbody>\n",
       "</table>\n",
       "</div>"
      ],
      "text/plain": [
       "  hatespeech                                               text  \\\n",
       "0        yes               Votaram no PEZAO Agora tomem no CZAO   \n",
       "1         no  cuidado com a poupanca pessoal Lembram o que a...   \n",
       "2         no  Sabe o que eu acho engracado os nossos governa...   \n",
       "3        yes  os cariocas tem o que merecem um pessoal que s...   \n",
       "4         no              Podiam retirar dos lucros dos bancos    \n",
       "5         no  CADE O GALVAO PRA NARRAR AGORA   FALIIIIUUUUUU...   \n",
       "6         no  Nao e possivel que deputados tenham tantos car...   \n",
       "7         no  Sejam honestos aprovem o projeto original vamo...   \n",
       "8         no  Nao a pizza anunciada de anistia do caixa  Sim...   \n",
       "9         no  quem ja viu bandidos fazendo leis contra antic...   \n",
       "\n",
       "                                          text_clean  \n",
       "0                     votaram pezao agora tomem czao  \n",
       "1  cuidado poupanca pessoal lembram aconteceu epo...  \n",
       "2  sabe acho engracado governantes  nao pensam co...  \n",
       "3  cariocas merecem pessoal so sabem toma banho s...  \n",
       "4                      podiam retirar lucros bancos   \n",
       "5  cade galvao pra narrar agora   faliiiiuuuuuuu ...  \n",
       "6  nao possivel deputados tantos cargos comission...  \n",
       "7  honestos aprovem projeto original vamos acabar...  \n",
       "8  nao pizza anunciada anistia caixa  sim divulga...  \n",
       "9  ja viu bandidos fazendo leis contra anticorrup...  "
      ]
     },
     "execution_count": 23,
     "metadata": {},
     "output_type": "execute_result"
    }
   ],
   "source": [
    "df_cut.head(10)"
   ]
  },
  {
   "cell_type": "code",
   "execution_count": 24,
   "id": "46f6c68c-a3c7-4357-9876-457ebed72dce",
   "metadata": {},
   "outputs": [
    {
     "data": {
      "text/plain": [
       "(6912,)"
      ]
     },
     "execution_count": 24,
     "metadata": {},
     "output_type": "execute_result"
    }
   ],
   "source": [
    "df_cut['text'].shape\n"
   ]
  },
  {
   "cell_type": "code",
   "execution_count": 25,
   "id": "879bac45-ca6e-467f-9d03-218aafdd7ab7",
   "metadata": {},
   "outputs": [],
   "source": [
    "\n",
    "X = df_cut['text_clean']\n",
    "Y = df_cut['hatespeech']\n",
    "vectorizer = CountVectorizer()\n",
    "X_vectorizer = vectorizer.fit_transform(X)\n",
    "\n",
    "\n",
    "x_treino, x_validacao, y_treino, y_validacao = train_test_split(X_vectorizer.toarray(), Y, test_size=0.2, random_state=42)"
   ]
  },
  {
   "cell_type": "code",
   "execution_count": 26,
   "id": "8cd9407a-f0a1-4815-9650-d0fa86b27778",
   "metadata": {},
   "outputs": [
    {
     "data": {
      "text/plain": [
       "'votaram pezao agora tomem czao'"
      ]
     },
     "execution_count": 26,
     "metadata": {},
     "output_type": "execute_result"
    }
   ],
   "source": [
    "X[0]"
   ]
  },
  {
   "cell_type": "code",
   "execution_count": 27,
   "id": "6356f0fb-44c3-46b5-b664-20f94795fd7c",
   "metadata": {},
   "outputs": [
    {
     "data": {
      "text/plain": [
       "array(['aa', 'aaaa', 'aaaaa', ..., 'úteis', 'útero', 'útil'], dtype=object)"
      ]
     },
     "execution_count": 27,
     "metadata": {},
     "output_type": "execute_result"
    }
   ],
   "source": [
    "vectorizer.get_feature_names_out()"
   ]
  },
  {
   "cell_type": "code",
   "execution_count": 28,
   "id": "3678c858-304d-4deb-9732-415319d948e6",
   "metadata": {},
   "outputs": [
    {
     "data": {
      "text/plain": [
       "(6912, 14565)"
      ]
     },
     "execution_count": 28,
     "metadata": {},
     "output_type": "execute_result"
    }
   ],
   "source": [
    "X_vectorizer.shape"
   ]
  },
  {
   "cell_type": "code",
   "execution_count": 29,
   "id": "94e115d6-7369-4483-b6b0-da3a77f5eb8f",
   "metadata": {},
   "outputs": [],
   "source": [
    "classificadores = [LogisticRegression(), MultinomialNB(), LinearSVC()]"
   ]
  },
  {
   "cell_type": "code",
   "execution_count": 30,
   "id": "0b7b9cd7-0a64-4050-a3c3-b65f6305c1f0",
   "metadata": {},
   "outputs": [],
   "source": [
    "TOTAL_KFOLDS = 10\n",
    "metricas = ['accuracy', 'balanced_accuracy', 'roc_auc']\n",
    "nomes = ['Logistic Regression', 'Multinomial Naive Bayes', 'Linear SVC (SVM)']\n",
    "modelos = {}\n",
    "resultados = []\n",
    "resultados_testes_metricas = {}\n",
    "resultados_validacao = {}\n"
   ]
  },
  {
   "cell_type": "markdown",
   "id": "794f5222-76d5-4d96-94d3-81a9c389c601",
   "metadata": {
    "tags": []
   },
   "source": [
    "## Treina modelos\n",
    "\n",
    "Realizao treinamento e teste baseado em cada classificador, avalia  erro e score baseado nas métricas espacificadas\n"
   ]
  },
  {
   "cell_type": "code",
   "execution_count": 31,
   "id": "efb873fd-6c03-4c7c-a872-a80c04adfb7d",
   "metadata": {},
   "outputs": [
    {
     "name": "stdout",
     "output_type": "stream",
     "text": [
      "{'Logistic Regression': {'fit_time': array([6.31835842, 6.03275871, 5.47732282, 6.24981046, 6.24503016,\n",
      "       6.06797338, 7.35412216, 7.14133382, 6.83616185, 6.19531274]), 'score_time': array([0.06951308, 0.06050944, 0.05350614, 0.05301046, 0.05428481,\n",
      "       0.05400801, 0.08853102, 0.08067298, 0.06107569, 0.05835962]), 'test_accuracy': array([0.7323689 , 0.72694394, 0.75768535, 0.75768535, 0.76311031,\n",
      "       0.74141049, 0.73960217, 0.72875226, 0.74864376, 0.77717391]), 'test_balanced_accuracy': array([0.64477154, 0.64962547, 0.6767191 , 0.67812864, 0.67485735,\n",
      "       0.65735817, 0.66039046, 0.64217429, 0.65688017, 0.697185  ]), 'test_roc_auc': array([0.74376779, 0.74968539, 0.78963296, 0.75330864, 0.76773818,\n",
      "       0.76618469, 0.73194814, 0.71599498, 0.76087444, 0.74433696])}, 'Multinomial Naive Bayes': {'fit_time': array([1.83465052, 1.96727705, 2.14233518, 1.86916518, 1.764364  ,\n",
      "       1.77801108, 1.76296401, 1.82035017, 1.74391794, 1.74651289]), 'score_time': array([0.06634688, 0.09023905, 0.08279467, 0.06436253, 0.06953645,\n",
      "       0.0783534 , 0.06288862, 0.06497693, 0.07232976, 0.07376957]), 'test_accuracy': array([0.7034358 , 0.69439421, 0.75949367, 0.74321881, 0.72875226,\n",
      "       0.74864376, 0.72151899, 0.6925859 , 0.71609403, 0.74456522]), 'test_balanced_accuracy': array([0.63967041, 0.64923596, 0.71494382, 0.69510501, 0.68295343,\n",
      "       0.71659248, 0.68197502, 0.64165148, 0.67796433, 0.69078592]), 'test_roc_auc': array([0.7069588 , 0.73717603, 0.78221723, 0.73981268, 0.74188152,\n",
      "       0.77081528, 0.72201476, 0.69550832, 0.74909629, 0.74794208])}, 'Linear SVC (SVM)': {'fit_time': array([0.77499151, 1.01906204, 1.0876286 , 1.18087578, 0.90176702,\n",
      "       0.92659116, 1.06346416, 0.95989561, 0.84723353, 0.79051948]), 'score_time': array([0.06431937, 0.1579535 , 0.08622885, 0.06805491, 0.07489038,\n",
      "       0.11976695, 0.08783102, 0.06278062, 0.06278276, 0.06027555]), 'test_accuracy': array([0.73598553, 0.68716094, 0.73960217, 0.73056058, 0.75768535,\n",
      "       0.73056058, 0.71790235, 0.71971067, 0.72513562, 0.74275362]), 'test_balanced_accuracy': array([0.674     , 0.62767041, 0.68109363, 0.67118274, 0.68832342,\n",
      "       0.67555194, 0.66619365, 0.66170496, 0.65843366, 0.68061648]), 'test_roc_auc': array([0.72307865, 0.70706367, 0.75357303, 0.73561527, 0.7430317 ,\n",
      "       0.7485436 , 0.71838497, 0.69606847, 0.73005109, 0.72323199])}}\n"
     ]
    }
   ],
   "source": [
    "for i in range(len(classificadores)):\n",
    "    scores = cross_validate(classificadores[i], x_treino, y_treino, scoring=metricas, cv=TOTAL_KFOLDS)\n",
    "    resultados_testes_metricas[nomes[i]] = scores\n",
    "print(resultados_testes_metricas)"
   ]
  },
  {
   "cell_type": "markdown",
   "id": "4f107bd7-ee69-4551-b97f-2fc8926f4a4d",
   "metadata": {},
   "source": [
    "## Realiza a predição com cada um dos classificadores\n",
    "\n",
    "A validação Utilizando a base de validação com dados que não estão entre aqueles\n",
    "#utilizados para treino pelos classificadores. Além disso, armazena os valores de acurácia obtidos\n",
    "#para cada class."
   ]
  },
  {
   "cell_type": "code",
   "execution_count": 32,
   "id": "1603c1ee-1d80-40e3-9670-93edd5eb7529",
   "metadata": {},
   "outputs": [
    {
     "name": "stdout",
     "output_type": "stream",
     "text": [
      "Acurácia: {'Logistic Regression': 0.737527114967462, 'Multinomial Naive Bayes': 0.7194504699927693, 'Linear SVC (SVM)': 0.7194504699927693}\n"
     ]
    }
   ],
   "source": [
    "for i in range(len(classificadores)):\n",
    "    modelos[nomes[i]] = classificadores[i].fit(x_treino, y_treino)\n",
    "    results = classificadores[i].predict(x_validacao)\n",
    "    acuracia = accuracy_score(y_validacao, results)\n",
    "    resultados_validacao[nomes[i]] = acuracia\n",
    "    \n",
    "print(f\"Acurácia: {resultados_validacao}\")"
   ]
  },
  {
   "cell_type": "code",
   "execution_count": 103,
   "id": "03f14fd2-8384-4b2e-8b73-0f18b8beac30",
   "metadata": {},
   "outputs": [
    {
     "name": "stdout",
     "output_type": "stream",
     "text": [
      "otarios\n",
      "[[0 0 0 ... 0 0 0]]\n"
     ]
    }
   ],
   "source": [
    "input_example = 'putos'\n",
    "\n",
    "input_example = clean_text(input_example)\n",
    "print (input_example)\n",
    "\n",
    "input_predict = vectorizer.transform([input_example])\n",
    "print(input_predict.toarray())"
   ]
  },
  {
   "cell_type": "code",
   "execution_count": 104,
   "id": "9b669631-faf9-47ca-b193-1053be8d376a",
   "metadata": {},
   "outputs": [
    {
     "data": {
      "text/plain": [
       "(1, 14565)"
      ]
     },
     "execution_count": 104,
     "metadata": {},
     "output_type": "execute_result"
    }
   ],
   "source": [
    "input_predict.shape"
   ]
  },
  {
   "cell_type": "code",
   "execution_count": 105,
   "id": "231dc4c3-4f22-442b-86ec-d3cb4f493c71",
   "metadata": {},
   "outputs": [
    {
     "name": "stdout",
     "output_type": "stream",
     "text": [
      "no\n"
     ]
    }
   ],
   "source": [
    "result = modelos['Logistic Regression'].predict(input_predict.toarray())\n",
    "print(result[0])"
   ]
  },
  {
   "cell_type": "code",
   "execution_count": 106,
   "id": "e1cdedd0-6d8b-4af9-9825-3829ac3eb4a8",
   "metadata": {},
   "outputs": [
    {
     "name": "stdout",
     "output_type": "stream",
     "text": [
      "no\n"
     ]
    }
   ],
   "source": [
    "result = modelos[ 'Multinomial Naive Bayes'].predict(input_predict.toarray())\n",
    "print(result[0])"
   ]
  },
  {
   "cell_type": "code",
   "execution_count": 107,
   "id": "9db2ee0c-b6f2-41bc-af96-86b015c01aa4",
   "metadata": {},
   "outputs": [
    {
     "name": "stdout",
     "output_type": "stream",
     "text": [
      "no\n"
     ]
    }
   ],
   "source": [
    "result = modelos['Linear SVC (SVM)'].predict(input_predict.toarray())\n",
    "print(result[0])"
   ]
  },
  {
   "cell_type": "code",
   "execution_count": 38,
   "id": "ed13a133-474a-4976-8836-bbd81d6d0e49",
   "metadata": {},
   "outputs": [],
   "source": [
    "#Cria um gráfico a partir dos parâmetros de abscissas e ordenadas passados como parâmetro e salva num arquivo PNG na raiz do programa.\n",
    "def mostrarGraficoLinhas(y_linsvc, y_multnvb, y_lreg, x_kfolds, y_values, x_label, y_label):\n",
    "    figure(num=None, figsize=(8, 6))\n",
    "    plt.plot(x_kfolds, y_lreg, '.', label='Logistic regression',linestyle='-')  # Recebe dois arrays, um sera do K e outro dos resultados\n",
    "    plt.plot(x_kfolds, y_multnvb, '.', label='Multinomial Naive Bayes', linestyle='-')\n",
    "    plt.plot(x_kfolds, y_linsvc, '.', label='LinearSVC', linestyle='-')\n",
    "    plt.ylim(0, 1)\n",
    "    plt.yticks(y_values)\n",
    "    plt.xlabel(x_label)\n",
    "    plt.ylabel(y_label)\n",
    "    plt.title(x_label + \" vs. \" + y_label)\n",
    "    plt.legend()\n",
    "    plt.savefig('teste-' + y_label + '.png')\n",
    "    plt.show()"
   ]
  },
  {
   "cell_type": "code",
   "execution_count": 39,
   "id": "1946a73a-0fd6-412b-b0e2-8c48550ae877",
   "metadata": {},
   "outputs": [
    {
     "data": {
      "text/plain": [
       "{'fit_time': array([6.31835842, 6.03275871, 5.47732282, 6.24981046, 6.24503016,\n",
       "        6.06797338, 7.35412216, 7.14133382, 6.83616185, 6.19531274]),\n",
       " 'score_time': array([0.06951308, 0.06050944, 0.05350614, 0.05301046, 0.05428481,\n",
       "        0.05400801, 0.08853102, 0.08067298, 0.06107569, 0.05835962]),\n",
       " 'test_accuracy': array([0.7323689 , 0.72694394, 0.75768535, 0.75768535, 0.76311031,\n",
       "        0.74141049, 0.73960217, 0.72875226, 0.74864376, 0.77717391]),\n",
       " 'test_balanced_accuracy': array([0.64477154, 0.64962547, 0.6767191 , 0.67812864, 0.67485735,\n",
       "        0.65735817, 0.66039046, 0.64217429, 0.65688017, 0.697185  ]),\n",
       " 'test_roc_auc': array([0.74376779, 0.74968539, 0.78963296, 0.75330864, 0.76773818,\n",
       "        0.76618469, 0.73194814, 0.71599498, 0.76087444, 0.74433696])}"
      ]
     },
     "execution_count": 39,
     "metadata": {},
     "output_type": "execute_result"
    }
   ],
   "source": [
    "resultados_testes_metricas['Logistic Regression']"
   ]
  },
  {
   "cell_type": "code",
   "execution_count": 40,
   "id": "6f3050e8-bb4a-4d82-ba90-dbebe87fbeab",
   "metadata": {},
   "outputs": [
    {
     "data": {
      "image/png": "[encoded data removed]",
      "text/plain": [
       "<Figure size 432x288 with 1 Axes>"
      ]
     },
     "metadata": {
      "needs_background": "light"
     },
     "output_type": "display_data"
    }
   ],
   "source": [
    "resultados_validacao.values\n",
    "plt.bar(nomes,resultados_validacao.values(), align='center', color = 'red')\n",
    "plt.xticks(np.arange(len(nomes)), nomes, rotation=30)\n",
    "plt.title('Acurácia da validação')\n",
    "plt.ylabel('Acurácia')\n",
    "plt.yticks(np.arange(0.5, 0.8, step=0.05))\n",
    "plt.ylim((0.5,0.8))\n",
    "plt.grid(axis='y')\n",
    "plt.savefig('graficos/validacao-acuracia.png')"
   ]
  },
  {
   "cell_type": "code",
   "execution_count": 41,
   "id": "dd333d88-3197-4196-bd3b-9883aab2e21e",
   "metadata": {},
   "outputs": [],
   "source": [
    "result_metricas = []\n",
    "for chave, valor in resultados_testes_metricas.items():\n",
    "    result_metricas.append(valor['test_' + metricas[i]])"
   ]
  },
  {
   "cell_type": "code",
   "execution_count": 42,
   "id": "0c7e2fc3-3b17-4937-88fc-c8460d09eb94",
   "metadata": {},
   "outputs": [
    {
     "data": {
      "image/png": "[encoded data removed]",
      "text/plain": [
       "<Figure size 576x432 with 1 Axes>"
      ]
     },
     "metadata": {
      "needs_background": "light"
     },
     "output_type": "display_data"
    },
    {
     "data": {
      "image/png": "[encoded data removed]",
      "text/plain": [
       "<Figure size 576x432 with 1 Axes>"
      ]
     },
     "metadata": {
      "needs_background": "light"
     },
     "output_type": "display_data"
    },
    {
     "data": {
      "image/png": "[encoded data removed]",
      "text/plain": [
       "<Figure size 576x432 with 1 Axes>"
      ]
     },
     "metadata": {
      "needs_background": "light"
     },
     "output_type": "display_data"
    }
   ],
   "source": [
    "label = ['Acurácia', 'Acurácia Balanceada', 'Área sobre curva ROC']\n",
    "kfolds = [i+1 for i in range(TOTAL_KFOLDS)]\n",
    "for i in range(len(metricas)):\n",
    "    plt.figure(num=None, figsize=(8, 6))\n",
    "    plt.plot(kfolds, result_metricas[0], '.', label='Logistic regression',linestyle='-')  # Recebe dois arrays, um sera do K e outro dos resultados\n",
    "    plt.plot(kfolds, result_metricas[1], '.', label='Multinomial Naive Bayes', linestyle='-')\n",
    "    plt.plot(kfolds, result_metricas[2], '.', label='LinearSVC', linestyle='-')\n",
    "    plt.ylim(0, 1)\n",
    "    plt.yticks(np.arange(0.5, 0.85, step=0.03))\n",
    "    plt.ylim((0.65,0.86))\n",
    "    plt.xlabel(\"Fold(n)\")\n",
    "    plt.ylabel(label[i])\n",
    "    plt.title(\"Fold(n) vs. \" + label[i])\n",
    "    plt.legend()\n",
    "    plt.grid(axis='y')\n",
    "    plt.savefig(f'graficos/{label[i]}.png')"
   ]
  },
  {
   "cell_type": "code",
   "execution_count": 43,
   "id": "974c9818-ae84-476b-a3cf-1c661c0d6eba",
   "metadata": {},
   "outputs": [],
   "source": [
    "Logistic_Regression = [n for n in resultados_testes_metricas['Logistic Regression']['fit_time']]\n",
    "Multinomial_Naive_Bayes = [n for n in resultados_testes_metricas['Multinomial Naive Bayes']['fit_time']]\n",
    "Linear_SVC = [n for n in resultados_testes_metricas['Linear SVC (SVM)']['fit_time']]\n"
   ]
  },
  {
   "cell_type": "code",
   "execution_count": 44,
   "id": "f675a93d-1191-4fde-b200-a96b3c3da28a",
   "metadata": {},
   "outputs": [
    {
     "data": {
      "image/png": "[encoded data removed]",
      "text/plain": [
       "<Figure size 576x432 with 1 Axes>"
      ]
     },
     "metadata": {
      "needs_background": "light"
     },
     "output_type": "display_data"
    }
   ],
   "source": [
    "label = ['Acurácia', 'Acurácia Balanceada', 'Área sobre curva ROC']\n",
    "\n",
    "plt.figure(num=None, figsize=(8, 6))\n",
    "plt.plot(kfolds, Logistic_Regression, '.', label='Logistic regression',linestyle='-')  # Recebe dois arrays, um sera do K e outro dos resultados\n",
    "plt.plot(kfolds, Multinomial_Naive_Bayes, '.', label='Multinomial Naive Bayes', linestyle='-')\n",
    "plt.plot(kfolds, Linear_SVC, '.', label='Linear SVC', linestyle='-')\n",
    "plt.ylim(0, 5)\n",
    "plt.yticks(np.arange(0, 5, step=0.3))\n",
    "#plt.ylim((0,0.6))\n",
    "plt.xlabel(\"Fold(n)\")\n",
    "plt.ylabel(\"Fit Time (s)\")\n",
    "plt.title(\"Fold(n) vs. Fit Time (s)\")\n",
    "plt.legend()\n",
    "plt.grid(axis='y')\n",
    "plt.savefig('graficos/Fit-Time.png')"
   ]
  },
  {
   "cell_type": "code",
   "execution_count": 76,
   "id": "2b22ac2d",
   "metadata": {},
   "outputs": [],
   "source": [
    "# Open a file and use dump()\n",
    "with open('modelo_Logistic_Regression.pkl', 'wb') as file:\n",
    "    pickle.dump(modelos['Logistic Regression'], file)"
   ]
  },
  {
   "cell_type": "code",
   "execution_count": 77,
   "id": "8ed0afa7",
   "metadata": {},
   "outputs": [],
   "source": [
    "    # Open the file in binary mode\n",
    "    with open('modelo_Logistic_Regression.pkl', 'rb') as file:\n",
    "        modelo_Logistic_Regression = pickle.load(file)\n"
   ]
  },
  {
   "cell_type": "code",
   "execution_count": 95,
   "id": "7fa7b38e",
   "metadata": {},
   "outputs": [
    {
     "name": "stdout",
     "output_type": "stream",
     "text": [
      "putos\n",
      "[[0 0 0 ... 0 0 0]]\n"
     ]
    }
   ],
   "source": [
    "input_example = 'putos'\n",
    "\n",
    "input_example = clean_text(input_example)\n",
    "print (input_example)\n",
    "\n",
    "input_predict = vectorizer.transform([input_example])\n",
    "print(input_predict.toarray())\n"
   ]
  },
  {
   "cell_type": "code",
   "execution_count": 96,
   "id": "3fe31ae5",
   "metadata": {},
   "outputs": [],
   "source": [
    "result = modelo_Logistic_Regression.predict(input_predict.toarray())"
   ]
  },
  {
   "cell_type": "code",
   "execution_count": 97,
   "id": "6f0647e5",
   "metadata": {},
   "outputs": [
    {
     "name": "stdout",
     "output_type": "stream",
     "text": [
      "no\n"
     ]
    }
   ],
   "source": [
    "print(result[0])"
   ]
  },
  {
   "cell_type": "code",
   "execution_count": null,
   "id": "9d960e99",
   "metadata": {},
   "outputs": [],
   "source": []
  }
 ],
 "metadata": {
  "kernelspec": {
   "display_name": "Python 3 (ipykernel)",
   "language": "python",
   "name": "python3"
  },
  "language_info": {
   "codemirror_mode": {
    "name": "ipython",
    "version": 3
   },
   "file_extension": ".py",
   "mimetype": "text/x-python",
   "name": "python",
   "nbconvert_exporter": "python",
   "pygments_lexer": "ipython3",
   "version": "3.9.5"
  }
 },
 "nbformat": 4,
 "nbformat_minor": 5
}
